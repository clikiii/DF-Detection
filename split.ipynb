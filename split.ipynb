{
 "cells": [
  {
   "cell_type": "code",
   "execution_count": 79,
   "id": "2cff70a8",
   "metadata": {
    "ExecuteTime": {
     "end_time": "2022-12-02T03:54:17.886346Z",
     "start_time": "2022-12-02T03:54:17.880882Z"
    }
   },
   "outputs": [],
   "source": [
    "import pandas as pd\n",
    "import numpy as np\n",
    "import torch\n",
    "import cv2\n",
    "import PIL\n",
    "from PIL import Image\n",
    "import torchvision\n",
    "\n",
    "import math\n",
    "import os\n",
    "from pathlib import Path\n",
    "from random import randrange\n",
    "\n",
    "import timm"
   ]
  },
  {
   "cell_type": "code",
   "execution_count": 31,
   "id": "be98f657",
   "metadata": {
    "ExecuteTime": {
     "end_time": "2022-12-01T14:16:44.403269Z",
     "start_time": "2022-12-01T14:16:44.398294Z"
    }
   },
   "outputs": [],
   "source": [
    "base_path = \"./data_split/\"\n",
    "\n",
    "Path(base_path + \"train\").mkdir(parents=True, exist_ok=True)\n",
    "Path(base_path + \"val\").mkdir(parents=True, exist_ok=True)\n",
    "Path(base_path + \"test\").mkdir(parents=True, exist_ok=True)"
   ]
  },
  {
   "cell_type": "code",
   "execution_count": 7,
   "id": "c215fd8c",
   "metadata": {
    "ExecuteTime": {
     "end_time": "2022-12-01T13:31:59.812352Z",
     "start_time": "2022-12-01T13:31:59.806609Z"
    }
   },
   "outputs": [],
   "source": [
    "def get_file_name(base):\n",
    "    for path, dir, file in os.walk(base):\n",
    "        for f in file:\n",
    "            if \".png\" in f:\n",
    "                yield(os.path.join(path, f))"
   ]
  },
  {
   "cell_type": "code",
   "execution_count": 8,
   "id": "f19b807d",
   "metadata": {
    "ExecuteTime": {
     "end_time": "2022-12-01T13:33:06.777561Z",
     "start_time": "2022-12-01T13:33:06.688207Z"
    }
   },
   "outputs": [
    {
     "name": "stdout",
     "output_type": "stream",
     "text": [
      "['DF', 'F2F', 'FS', 'NT', 'eyes', 'mouth']\n"
     ]
    }
   ],
   "source": [
    "fake_type = []\n",
    "for idx, file_path in enumerate(get_file_name('./data/manipulated/')):\n",
    "    fake_type.append(((file_path.split('/'))[-1]).split('_')[0])\n",
    "    \n",
    "fake_type = np.array(fake_type)\n",
    "fake_type = np.unique(fake_type).tolist()\n",
    "print(fake_type)"
   ]
  },
  {
   "cell_type": "code",
   "execution_count": 19,
   "id": "6596e3bf",
   "metadata": {
    "ExecuteTime": {
     "end_time": "2022-12-01T13:58:21.415054Z",
     "start_time": "2022-12-01T13:58:17.336117Z"
    }
   },
   "outputs": [],
   "source": [
    "image_data = {\n",
    "    'real': [],\n",
    "    'DF': [],\n",
    "    'F2F': [],\n",
    "    'FS': [],\n",
    "    'NT': [],\n",
    "    'eyes': [],\n",
    "    'mouth': []\n",
    "}\n",
    "\n",
    "for idx, file_path in enumerate(get_file_name('./data/')):\n",
    "    img = Image.open(file_path)\n",
    "    \n",
    "    if 'manipulated' in file_path: \n",
    "        for i, t in enumerate(fake_type):\n",
    "            if t in file_path:\n",
    "                image_data[t].append(img)\n",
    "                break\n",
    "    else:\n",
    "        image_data['real'].append(img)\n",
    "        \n",
    "    img.close()"
   ]
  },
  {
   "cell_type": "code",
   "execution_count": 29,
   "id": "d65eb2fa",
   "metadata": {
    "ExecuteTime": {
     "end_time": "2022-12-01T14:07:40.238683Z",
     "start_time": "2022-12-01T14:07:40.232243Z"
    }
   },
   "outputs": [
    {
     "name": "stdout",
     "output_type": "stream",
     "text": [
      "real 4000 ./data/original/3975.png\n",
      "DF 1333 ./data/manipulated/DF_745.png\n",
      "F2F 1335 ./data/manipulated/F2F_568.png\n",
      "FS 1333 ./data/manipulated/FS_474.png\n",
      "NT 1333 ./data/manipulated/NT_921.png\n",
      "eyes 1333 ./data/manipulated/eyes_633.png\n",
      "mouth 1333 ./data/manipulated/mouth_1314.png\n"
     ]
    }
   ],
   "source": [
    "for k, v in image_data.items():\n",
    "    print(k, len(v), v[0])"
   ]
  },
  {
   "cell_type": "code",
   "execution_count": 32,
   "id": "56a8c869",
   "metadata": {
    "ExecuteTime": {
     "end_time": "2022-12-01T14:25:59.130025Z",
     "start_time": "2022-12-01T14:16:48.503117Z"
    }
   },
   "outputs": [
    {
     "name": "stdout",
     "output_type": "stream",
     "text": [
      "real 2800 600 600\n",
      "DF 934 199 200\n",
      "F2F 935 200 200\n",
      "FS 934 199 200\n",
      "NT 934 199 200\n",
      "eyes 934 199 200\n",
      "mouth 934 199 200\n"
     ]
    }
   ],
   "source": [
    "train = 0.7\n",
    "val = 0.15\n",
    "test = 0.15\n",
    "\n",
    "train_path = \"./data_split/train/\"\n",
    "val_path = \"./data_split/val/\"\n",
    "test_path = \"./data_split/test/\"\n",
    "\n",
    "for k, v in image_data.items():\n",
    "    train_len = math.ceil(len(v)*train)\n",
    "    val_len = math.floor(len(v)*val)\n",
    "    test_len = len(v) - train_len - val_len\n",
    "    print(k, train_len, val_len, test_len)\n",
    "    \n",
    "    for idx, t in enumerate(v):\n",
    "        t = Image.open(t.filename)\n",
    "        if idx <= train_len:\n",
    "            t.save(train_path + t.filename.split(\"/\")[-1],\"PNG\")\n",
    "        elif idx > train_len and idx <= (train_len+val_len):\n",
    "            t.save(val_path + t.filename.split(\"/\")[-1],\"PNG\")\n",
    "        else:\n",
    "            t.save(test_path + t.filename.split(\"/\")[-1],\"PNG\")\n",
    "        t.close()"
   ]
  },
  {
   "cell_type": "code",
   "execution_count": 45,
   "id": "65ba84b4",
   "metadata": {
    "ExecuteTime": {
     "end_time": "2022-12-02T03:36:27.553803Z",
     "start_time": "2022-12-02T03:36:27.549475Z"
    }
   },
   "outputs": [],
   "source": [
    "# train 9600 1067"
   ]
  },
  {
   "cell_type": "code",
   "execution_count": 81,
   "id": "ca9253db",
   "metadata": {
    "ExecuteTime": {
     "end_time": "2022-12-02T04:07:16.285650Z",
     "start_time": "2022-12-02T04:01:59.140692Z"
    }
   },
   "outputs": [],
   "source": [
    "for idx, file_path in enumerate(get_file_name(train_path)):\n",
    "    if \"_\" in file_path.split(\"/\")[-1]:\n",
    "        img = Image.open(file_path)\n",
    "        rand = randrange(4)\n",
    "        \n",
    "        if rand == 0:\n",
    "            img_m = torchvision.transforms.RandomRotation((10, 20))(img)\n",
    "            img_m.save(img.filename[:-4]+\"-rot.png\", \"PNG\")\n",
    "        elif rand == 1:\n",
    "            img_m = torchvision.transforms.RandomHorizontalFlip()(img)\n",
    "            img_m.save(img.filename[:-4]+\"-hf.png\", \"PNG\")\n",
    "        elif rand == 2:\n",
    "            img_m = torchvision.transforms.RandomRotation((10, 20))(img)\n",
    "            img_m.save(img.filename[:-4]+\"-rot.png\", \"PNG\")\n",
    "            img_m = torchvision.transforms.RandomHorizontalFlip()(img)\n",
    "            img_m.save(img.filename[:-4]+\"-hf.png\", \"PNG\")\n",
    "        elif rand == 3:\n",
    "            img_m = torchvision.transforms.RandomHorizontalFlip()(img)\n",
    "            img_m = torchvision.transforms.RandomRotation((10, 20))(img_m)\n",
    "            img_m.save(img.filename[:-4]+\"-hfrot.png\", \"PNG\")"
   ]
  },
  {
   "cell_type": "code",
   "execution_count": 82,
   "id": "11ef8492",
   "metadata": {
    "ExecuteTime": {
     "end_time": "2022-12-02T04:07:16.354597Z",
     "start_time": "2022-12-02T04:07:16.293755Z"
    }
   },
   "outputs": [
    {
     "data": {
      "text/plain": [
       "7417"
      ]
     },
     "execution_count": 82,
     "metadata": {},
     "output_type": "execute_result"
    }
   ],
   "source": [
    "count = 0\n",
    "for idx, file_path in enumerate(get_file_name(train_path)):\n",
    "    if \"-\" in file_path.split(\"/\")[-1]: count += 1\n",
    "count"
   ]
  },
  {
   "cell_type": "code",
   "execution_count": 175,
   "id": "fa3b1d6f",
   "metadata": {
    "ExecuteTime": {
     "end_time": "2022-12-02T04:43:02.936122Z",
     "start_time": "2022-12-02T04:43:02.929692Z"
    }
   },
   "outputs": [
    {
     "data": {
      "text/plain": [
       "17588"
      ]
     },
     "execution_count": 175,
     "metadata": {},
     "output_type": "execute_result"
    }
   ],
   "source": [
    "9600 + 7988"
   ]
  },
  {
   "cell_type": "code",
   "execution_count": 176,
   "id": "6c4804dd",
   "metadata": {
    "ExecuteTime": {
     "end_time": "2022-12-02T04:43:11.811633Z",
     "start_time": "2022-12-02T04:43:11.806027Z"
    }
   },
   "outputs": [
    {
     "data": {
      "text/plain": [
       "549"
      ]
     },
     "execution_count": 176,
     "metadata": {},
     "output_type": "execute_result"
    }
   ],
   "source": [
    "17588 // 32"
   ]
  },
  {
   "cell_type": "code",
   "execution_count": 179,
   "id": "5b11ac79",
   "metadata": {
    "ExecuteTime": {
     "end_time": "2022-12-02T04:44:48.713062Z",
     "start_time": "2022-12-02T04:44:48.704422Z"
    }
   },
   "outputs": [
    {
     "data": {
      "text/plain": [
       "19200"
      ]
     },
     "execution_count": 179,
     "metadata": {},
     "output_type": "execute_result"
    }
   ],
   "source": [
    "32 * 600"
   ]
  },
  {
   "cell_type": "code",
   "execution_count": 182,
   "id": "8160103a",
   "metadata": {
    "ExecuteTime": {
     "end_time": "2022-12-02T09:04:34.633990Z",
     "start_time": "2022-12-02T09:04:34.553242Z"
    }
   },
   "outputs": [
    {
     "ename": "AttributeError",
     "evalue": "module 'torchvision.models' has no attribute 'ResNet50_Weights'",
     "output_type": "error",
     "traceback": [
      "\u001b[0;31m---------------------------------------------------------------------------\u001b[0m",
      "\u001b[0;31mAttributeError\u001b[0m                            Traceback (most recent call last)",
      "Input \u001b[0;32mIn [182]\u001b[0m, in \u001b[0;36m<cell line: 1>\u001b[0;34m()\u001b[0m\n\u001b[0;32m----> 1\u001b[0m \u001b[43mtorchvision\u001b[49m\u001b[38;5;241;43m.\u001b[39;49m\u001b[43mmodels\u001b[49m\u001b[38;5;241;43m.\u001b[39;49m\u001b[43mResNet50_Weights\u001b[49m\u001b[38;5;241m.\u001b[39mDEFAULT\n",
      "\u001b[0;31mAttributeError\u001b[0m: module 'torchvision.models' has no attribute 'ResNet50_Weights'"
     ]
    }
   ],
   "source": [
    "torchvision.models.resnet50(pretrained=True)"
   ]
  },
  {
   "cell_type": "code",
   "execution_count": null,
   "id": "eb426b56",
   "metadata": {},
   "outputs": [],
   "source": []
  }
 ],
 "metadata": {
  "kernelspec": {
   "display_name": "Python [conda env:newtorch]",
   "language": "python",
   "name": "conda-env-newtorch-py"
  },
  "language_info": {
   "codemirror_mode": {
    "name": "ipython",
    "version": 3
   },
   "file_extension": ".py",
   "mimetype": "text/x-python",
   "name": "python",
   "nbconvert_exporter": "python",
   "pygments_lexer": "ipython3",
   "version": "3.8.13"
  }
 },
 "nbformat": 4,
 "nbformat_minor": 5
}
