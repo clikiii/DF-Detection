{
 "cells": [
  {
   "cell_type": "markdown",
   "id": "b28ee645",
   "metadata": {
    "id": "b28ee645"
   },
   "source": [
    "## CS4487 Deepfake Detection - Final Report"
   ]
  },
  {
   "cell_type": "markdown",
   "id": "aba03f70",
   "metadata": {
    "id": "aba03f70"
   },
   "source": [
    "#### Group 21: WANG Yian (56641105), SUN Yining(40141221)"
   ]
  },
  {
   "cell_type": "markdown",
   "id": "eb0927b8",
   "metadata": {
    "id": "eb0927b8"
   },
   "source": [
    "### 1. Background"
   ]
  },
  {
   "cell_type": "markdown",
   "id": "489a8a42",
   "metadata": {
    "id": "489a8a42"
   },
   "source": [
    "#### 1.1 Introduction"
   ]
  },
  {
   "cell_type": "markdown",
   "id": "8f8f5fcf",
   "metadata": {
    "id": "8f8f5fcf"
   },
   "source": [
    "Deepfakes are synthetic media in which a person in an existing image or video is **replaced with someone else's likeness**. The main machine learning methods used to create deepfakes are based on deep learning and involve training generative neural network architectures, such as autoencoders, or generative adversarial networks (GANs).\n",
    "\n"
   ]
  },
  {
   "cell_type": "markdown",
   "id": "sfZMz7qGNMhM",
   "metadata": {
    "id": "sfZMz7qGNMhM"
   },
   "source": [
    "DeepFake detection nowadays has become a pressing issue and a hot spot of\n",
    "research. For example, one approach to deepfake detection is to use algorithms to recognize patterns and pick up subtle inconsistencies that arise in deepfake videos."
   ]
  },
  {
   "cell_type": "markdown",
   "id": "0d62743c",
   "metadata": {
    "id": "0d62743c"
   },
   "source": [
    "#### 1.2 Project Requirements"
   ]
  },
  {
   "cell_type": "markdown",
   "id": "8bfd4896",
   "metadata": {
    "id": "8bfd4896"
   },
   "source": [
    "**Details about the project:**\n",
    "\n",
    "Task: A binary classification problem\n",
    "\n",
    "Input: RGB facial images of size 299 × 299 × 3\n",
    "\n",
    "Output: A binary label to indicate whether an image is fake or not\n",
    "\n",
    "Training set: 12,000 images, within which 8,000 images contain fake faces, and the rest images are real\n",
    "\n",
    "Test set: 3,000 images that will not be released to the students"
   ]
  },
  {
   "cell_type": "markdown",
   "id": "536bb891",
   "metadata": {
    "id": "536bb891"
   },
   "source": [
    "### 2. Research and Simple Attempts before Starting"
   ]
  },
  {
   "cell_type": "markdown",
   "id": "cdf2dbeb",
   "metadata": {
    "id": "cdf2dbeb"
   },
   "source": [
    "#### 2.1 Xception"
   ]
  },
  {
   "cell_type": "markdown",
   "id": "965792f7",
   "metadata": {
    "id": "965792f7"
   },
   "source": [
    "The Xception contains three parts, the entry flow, the middle flow, and the exit flow. \n",
    "* In the entry flow, it uses **residual connections**. \n",
    "* In the middle flow, it repeats this module eight times. \n",
    "* In the exit flow, the Xception uses global average pooling instead of fully connected layer and get 2048-dimensional vectors, which can reduce the spatial information."
   ]
  },
  {
   "cell_type": "markdown",
   "id": "pudKCwkzRZrv",
   "metadata": {
    "id": "pudKCwkzRZrv"
   },
   "source": [
    "In the exit flow, the logic line of the model splits into two lines. One  branch contains a 1* 1 convolution, which is used as residual connection.\n",
    "Adding residual connections can improve the rate of convergence of the model.\n",
    "Another contains three convolution modules. After doing this, the model adds the results of the two together. And then split into two lines again."
   ]
  },
  {
   "cell_type": "markdown",
   "id": "1fP31Vo0RgSF",
   "metadata": {
    "id": "1fP31Vo0RgSF"
   },
   "source": [
    "In the original **Depthwise Separable convolution layer**, first it does the depth-wise convolution, which uses each filter channel only at one input channel. To be more specific, it breaks the filter and image into three different channels and then convolve the corresponding image with corresponding channel and then stack them back. After that, it does the pointwise convolution, which uses a filter to cover the depth dimension. \n",
    "\n",
    "Differently, in the Xception, it first does the pointwise convolution using a 1*1 convolution to process the cross-chanel information, and then does the depth-wise convolution to obtain the spatial information and concatenate them. Parameters are reduced by this convolution to output same number of channels."
   ]
  },
  {
   "cell_type": "markdown",
   "id": "af988c9a",
   "metadata": {
    "id": "af988c9a"
   },
   "source": [
    "After researching, we decided to first try this original model to see the preformance. So we splited the dataset by train:val:test = 0.8:0.1:0.1 where label 0 represented fake faces and 1 represented real faces, and tested the model with different hyperparameters for several times, the best accuracy we recorded was about:\n",
    "\n",
    "```\n",
    "test accuracy: tensor([0.6587], device='cuda:0')\n",
    "```"
   ]
  },
  {
   "cell_type": "markdown",
   "id": "f8f9964e",
   "metadata": {
    "id": "f8f9964e"
   },
   "source": [
    "#### 2.2 VGG19"
   ]
  },
  {
   "cell_type": "markdown",
   "id": "b9a2962f",
   "metadata": {
    "id": "b9a2962f"
   },
   "source": [
    "VGG19 is a convolution neural net(CNN) architecture which was used to win ILSVR competition in 2014. And it is considered to be one of the excellent vision model architecture."
   ]
  },
  {
   "cell_type": "markdown",
   "id": "VNF2vdfFe8pl",
   "metadata": {
    "id": "VNF2vdfFe8pl"
   },
   "source": [
    "**Architecture:**\n",
    "\n",
    "* Fixed size of (224 * 224) RGB image was given as input to this network, which means that the matrix was of shape (224,224,3).\n",
    "\n",
    "* The only preprocessing that was done is that they subtracted the mean RGB value from each pixel, computed over the whole training set.\n",
    "\n",
    "* Used kernels of (3 * 3) size with a stride size of 1 pixel, this enabled them to cover the whole notion of the image.\n",
    "\n",
    "* Spatial padding was used to preserve the spatial resolution of the image.\n",
    "Max pooling was performed over a 2 * 2 pixel windows with sride 2.\n",
    "\n",
    "* This was followed by Rectified linear unit(ReLu) to introduce non-linearity to make the model classify better and to improve computational time, as the previous models used tanh or sigmoid functions.\n",
    "\n",
    "* Implemented three fully connected layers from which the first two were of size 4096 and after that, a layer with 1000 channels for 1000-way ILSVRC classification. And the final layer is a softmax function."
   ]
  },
  {
   "cell_type": "markdown",
   "id": "55931a5c",
   "metadata": {
    "id": "55931a5c"
   },
   "source": [
    "We also tried this model in a simple and naive way just as above, and got the following output:\n",
    "\n",
    "```\n",
    "test accuracy: tensor([0.7065], device='cuda:1')\n",
    "```"
   ]
  },
  {
   "cell_type": "markdown",
   "id": "d3273253",
   "metadata": {
    "id": "d3273253"
   },
   "source": [
    "#### 2.3 ResNet"
   ]
  },
  {
   "cell_type": "markdown",
   "id": "812f77e6",
   "metadata": {
    "id": "812f77e6"
   },
   "source": [
    "The ResNet people are discussing today is basically from a paper published in 2015. Intuitively, we can reach a conclusion that deeper neural networks can achieve higher accuracy if they are appropriately trained; this is mainly because deeper networks have an opportunity to learn more features. However, it is not usually the case. In reality, we usually found that, with the network depth increasing, the accuracy gets saturated and then degrades rapidly, which may not be surprising. The authors then realized that this is not because of overfitting, and adding more layers will lead to high training error."
   ]
  },
  {
   "cell_type": "markdown",
   "id": "3Ti-_ALTag-i",
   "metadata": {
    "id": "3Ti-_ALTag-i"
   },
   "source": [
    "We don’t want results getting worse, so at least we hope that when the networks get deeper, it can keep the same accuracy as before in the worst case. To solve this problem, the researchers address **a deep residual learning framework**. In detail, instead of hoping each layer directly fits a desired underlying mapping, they explicitly let these layers fit a residual mapping. The researchers hypothesized that optimizing the residual mapping is easier than optimizing the original one. The team created a shortcut connection in the network, which greatly reduced the degradation without increasing the computational complexity and without adding new parameters."
   ]
  },
  {
   "cell_type": "markdown",
   "id": "54f07657",
   "metadata": {
    "id": "54f07657"
   },
   "source": [
    "We chose the resnet50 as it had a good performance in the experiement and paper while cost less than other larger network. We processed the data just as previous and add a simple convolution layer for adjusting the data shape, and got the result:\n",
    "\n",
    "```\n",
    "test accuracy: tensor([0.7839], device='cuda:1')\n",
    "```"
   ]
  },
  {
   "cell_type": "markdown",
   "id": "b643e314",
   "metadata": {
    "id": "b643e314"
   },
   "source": [
    "#### 2.4 Other Attemps and Decision"
   ]
  },
  {
   "cell_type": "markdown",
   "id": "54ce61e9",
   "metadata": {
    "id": "54ce61e9"
   },
   "source": [
    "During researching, we also found some other people have tried to detect the fake faces by using simple SVM, naive bayes, etc., which all gave the test accuracy at around 60% to 65%. As a result, we determined our base line is **65% for test accuracy**.\n",
    "\n",
    "Inspired by the paper of resnet, we were awared that it may not be a good idea to simply implement very deep networks to achieve good accuracy. Moreover, during testing the existed models, we found that it may take a long time to train, so due to the time limitation of the project, we should also mind the training speed of the model.\n",
    "\n",
    "As the resnet was not so costy when training and gave a good performance in naive testing, we decided to stick to resnet to do the further research."
   ]
  },
  {
   "cell_type": "markdown",
   "id": "6a6ccca8",
   "metadata": {
    "id": "6a6ccca8"
   },
   "source": [
    "### 3. Data Preprocessing"
   ]
  },
  {
   "cell_type": "markdown",
   "id": "c600b9b4",
   "metadata": {
    "id": "c600b9b4"
   },
   "source": [
    "To do the detection, our model should have two functions: first extract the features from the images and then do the binary classification according to the features. At the beginning, we wanted to see whether there are some diffenrences in terms of number between fake faces and real faces. "
   ]
  },
  {
   "cell_type": "markdown",
   "id": "53c1b250",
   "metadata": {
    "id": "53c1b250"
   },
   "source": [
    "In this section, we use the original folder sturcture:\n",
    "\n",
    "```\n",
    "|--- data\n",
    "    |--- original\n",
    "         |---0001.png\n",
    "         |---...\n",
    "    |--- manipulated\n",
    "         |---...\n",
    "```"
   ]
  },
  {
   "cell_type": "markdown",
   "id": "e0329ad7",
   "metadata": {
    "id": "e0329ad7"
   },
   "source": [
    "To initialize Python. Run the below cell."
   ]
  },
  {
   "cell_type": "code",
   "execution_count": 1,
   "id": "99217569",
   "metadata": {
    "ExecuteTime": {
     "end_time": "2022-12-04T02:23:08.907201Z",
     "start_time": "2022-12-04T02:23:04.019996Z"
    },
    "id": "99217569"
   },
   "outputs": [],
   "source": [
    "import numpy as np\n",
    "import pandas as pd\n",
    "import torch\n",
    "import torch.nn as nn\n",
    "import cv2\n",
    "import matplotlib.pyplot as plt\n",
    "\n",
    "from PIL import Image\n",
    "import PIL\n",
    "import torchvision\n",
    "from random import randrange\n",
    "\n",
    "import os\n",
    "from pathlib import Path\n",
    "import math"
   ]
  },
  {
   "cell_type": "markdown",
   "id": "8421bf96",
   "metadata": {
    "id": "8421bf96"
   },
   "source": [
    "#### 3.1 Image Histogram"
   ]
  },
  {
   "cell_type": "markdown",
   "id": "fc09fe23",
   "metadata": {
    "id": "fc09fe23"
   },
   "source": [
    "First, we looked into the the image histogram. \n",
    "An image histogram is a type of histogram that acts as a graphical representation of **the tonal distribution in a digital image**. It plots the number of pixels for each tonal value. \n",
    "We find some reports that say the peak of the fake images’ histogram and the real images’ histogram varies. \n",
    "That is, in the image histogram of fake images, the peaks of the three primary colors (RGB) basically overlap, while in the image histogram of real images, the peaks of the three primary colors (RGB) do not overlap at all.\n",
    "So we want to figure out whether this approach fits our data set well."
   ]
  },
  {
   "cell_type": "markdown",
   "id": "4bcc5824",
   "metadata": {
    "id": "4bcc5824"
   },
   "source": [
    "To get the file path of the images, please run the below cell."
   ]
  },
  {
   "cell_type": "code",
   "execution_count": 2,
   "id": "cd1283f4",
   "metadata": {
    "ExecuteTime": {
     "end_time": "2022-12-04T02:23:08.915519Z",
     "start_time": "2022-12-04T02:23:08.910279Z"
    },
    "id": "cd1283f4"
   },
   "outputs": [],
   "source": [
    "def get_file_name(base):\n",
    "    for path, dir, file in os.walk(base):\n",
    "        for f in file:\n",
    "            if \".png\" in f:\n",
    "                yield(os.path.join(path, f))"
   ]
  },
  {
   "cell_type": "markdown",
   "id": "bc6d377c",
   "metadata": {
    "id": "bc6d377c"
   },
   "source": [
    "- **Fake images**\n",
    "\n",
    "Load the images that are under the path './data/manipulated/', these images are all fake. Run the following cell to view the image histograms of five fake images as examples."
   ]
  },
  {
   "cell_type": "code",
   "execution_count": 3,
   "id": "0e18d20c",
   "metadata": {
    "ExecuteTime": {
     "end_time": "2022-12-04T02:23:08.925629Z",
     "start_time": "2022-12-04T02:23:08.918863Z"
    },
    "id": "0e18d20c"
   },
   "outputs": [],
   "source": [
    "def get_img_histo(file_path):\n",
    "    image = cv2.imread(file_path)\n",
    "    channels = cv2.split(image)\n",
    "    colors = ('b', 'g', 'r')\n",
    "\n",
    "    plt.figure()                # new a figure\n",
    "    plt.title(\"RGB Histogram\")  # title of figure\n",
    "    plt.xlabel(\"Bins\")          # xlabel: lightness 0-255\n",
    "    plt.ylabel(\"# of Pixels\")   # ylabel: # of pixels of one lightness\n",
    "\n",
    "    for (channels, color) in zip(channels, colors):\n",
    "        hist = cv2.calcHist([channels], [0], None, [256], [0, 255])\n",
    "        plt.plot(hist, color=color)\n",
    "        plt.xlim([0, 256])\n",
    "        plt.ylim([0, 5000])\n",
    "    plt.show()"
   ]
  },
  {
   "cell_type": "code",
   "execution_count": 4,
   "id": "32e6c2fa",
   "metadata": {
    "ExecuteTime": {
     "end_time": "2022-12-04T02:23:09.478485Z",
     "start_time": "2022-12-04T02:23:08.931692Z"
    },
    "id": "32e6c2fa",
    "outputId": "06122860-2a9e-43af-b920-6b589b8d2014"
   },
   "outputs": [
    {
     "data": {
      "image/png": "[encoded data removed]",
      "text/plain": [
       "<Figure size 432x288 with 1 Axes>"
      ]
     },
     "metadata": {
      "needs_background": "light"
     },
     "output_type": "display_data"
    },
    {
     "data": {
      "image/png": "[encoded data removed]",
      "text/plain": [
       "<Figure size 432x288 with 1 Axes>"
      ]
     },
     "metadata": {
      "needs_background": "light"
     },
     "output_type": "display_data"
    },
    {
     "data": {
      "image/png": "[encoded data removed]",
      "text/plain": [
       "<Figure size 432x288 with 1 Axes>"
      ]
     },
     "metadata": {
      "needs_background": "light"
     },
     "output_type": "display_data"
    },
    {
     "data": {
      "image/png": "[encoded data removed]",
      "text/plain": [
       "<Figure size 432x288 with 1 Axes>"
      ]
     },
     "metadata": {
      "needs_background": "light"
     },
     "output_type": "display_data"
    },
    {
     "data": {
      "image/png": "[encoded data removed]",
      "text/plain": [
       "<Figure size 432x288 with 1 Axes>"
      ]
     },
     "metadata": {
      "needs_background": "light"
     },
     "output_type": "display_data"
    }
   ],
   "source": [
    "i = 0\n",
    "for idx, file_path in enumerate(get_file_name('./data/manipulated/')):\n",
    "    i += 1\n",
    "    if i == 6: break\n",
    "    \n",
    "    get_img_histo(file_path)"
   ]
  },
  {
   "cell_type": "markdown",
   "id": "ca047b47",
   "metadata": {
    "ExecuteTime": {
     "end_time": "2022-12-03T05:00:42.572818Z",
     "start_time": "2022-12-03T05:00:42.563812Z"
    },
    "id": "ca047b47"
   },
   "source": [
    "- **Real images**\n",
    "\n",
    "Load the images that are under the path './data/original/', these images are all real. Run the flolowing cell to view the image histograms of five real images as examples."
   ]
  },
  {
   "cell_type": "code",
   "execution_count": 5,
   "id": "f6a5d205",
   "metadata": {
    "ExecuteTime": {
     "end_time": "2022-12-04T02:23:11.555291Z",
     "start_time": "2022-12-04T02:23:11.075978Z"
    },
    "id": "f6a5d205",
    "outputId": "c3e2abe7-994f-437f-c5e4-3046e8aa2cd1"
   },
   "outputs": [
    {
     "data": {
      "image/png": "[encoded data removed]",
      "text/plain": [
       "<Figure size 432x288 with 1 Axes>"
      ]
     },
     "metadata": {
      "needs_background": "light"
     },
     "output_type": "display_data"
    },
    {
     "data": {
      "image/png": "[encoded data removed]",
      "text/plain": [
       "<Figure size 432x288 with 1 Axes>"
      ]
     },
     "metadata": {
      "needs_background": "light"
     },
     "output_type": "display_data"
    },
    {
     "data": {
      "image/png": "[encoded data removed]",
      "text/plain": [
       "<Figure size 432x288 with 1 Axes>"
      ]
     },
     "metadata": {
      "needs_background": "light"
     },
     "output_type": "display_data"
    },
    {
     "data": {
      "image/png": "[encoded data removed]",
      "text/plain": [
       "<Figure size 432x288 with 1 Axes>"
      ]
     },
     "metadata": {
      "needs_background": "light"
     },
     "output_type": "display_data"
    },
    {
     "data": {
      "image/png": "[encoded data removed]",
      "text/plain": [
       "<Figure size 432x288 with 1 Axes>"
      ]
     },
     "metadata": {
      "needs_background": "light"
     },
     "output_type": "display_data"
    }
   ],
   "source": [
    "i = 0\n",
    "for idx, file_path in enumerate(get_file_name('./data/original/')):\n",
    "    i += 1\n",
    "    if i == 6: break\n",
    "        \n",
    "    get_img_histo(file_path)"
   ]
  },
  {
   "cell_type": "markdown",
   "id": "7e653132",
   "metadata": {
    "id": "7e653132"
   },
   "source": [
    "As we can see from the image histograms of our data set, some peaks of fake images’ histograms overlap, while others do not overlap at all. And there is no big diffenrences in terms of data patterns.\n",
    "\n",
    "We did not get useful patterns in the above analysis, so we decided to not to use the method."
   ]
  },
  {
   "cell_type": "markdown",
   "id": "b26172fa",
   "metadata": {},
   "source": [
    "We also tested whether we should use HSV or RGB to record data, which turns out that RGB makes more sense for algorithms."
   ]
  },
  {
   "cell_type": "markdown",
   "id": "8fb61d58",
   "metadata": {
    "id": "8fb61d58"
   },
   "source": [
    "In the final model, we first normalize the data with mean and standard deviation, and then central crop them to smaller pictures as faces are all in the middle of the images:\n",
    "\n",
    "```\n",
    "torchvision.transforms.CenterCrop((255, 255))\n",
    "torchvision.transforms.Normalize([0.5]*3, [0.5]*3)\n",
    "```"
   ]
  },
  {
   "cell_type": "markdown",
   "id": "a5ef3688",
   "metadata": {
    "id": "a5ef3688"
   },
   "source": [
    "### 4. Dataset Split and Data Augment"
   ]
  },
  {
   "cell_type": "markdown",
   "id": "181dcc90",
   "metadata": {
    "id": "181dcc90"
   },
   "source": [
    "#### 4.1 Dataset Split"
   ]
  },
  {
   "cell_type": "markdown",
   "id": "29d07fcd",
   "metadata": {
    "id": "29d07fcd"
   },
   "source": [
    "Becuase our batch size for training was 64 or 32, we decided to split the dataset in train:val:test = 0.8:0.1:0.1 = 9600:1200:1200."
   ]
  },
  {
   "cell_type": "markdown",
   "id": "3ffc9cf4",
   "metadata": {
    "id": "3ffc9cf4"
   },
   "source": [
    "Run the below cell to create directories."
   ]
  },
  {
   "cell_type": "code",
   "execution_count": 10,
   "id": "bd47d7db",
   "metadata": {
    "ExecuteTime": {
     "end_time": "2022-12-04T02:26:05.520509Z",
     "start_time": "2022-12-04T02:26:05.513106Z"
    },
    "id": "bd47d7db"
   },
   "outputs": [],
   "source": [
    "base_path = \"./input/\"\n",
    "\n",
    "Path(base_path + \"train\").mkdir(parents=True, exist_ok=True)\n",
    "Path(base_path + \"val\").mkdir(parents=True, exist_ok=True)\n",
    "Path(base_path + \"test\").mkdir(parents=True, exist_ok=True)"
   ]
  },
  {
   "cell_type": "markdown",
   "id": "8d7655a9",
   "metadata": {
    "id": "8d7655a9"
   },
   "source": [
    "At the very beginning, we just splited the images randomly into three group. However, when we looked into the filenames of the images, we realized that there were different types of fake images which may be generated by different deepfake algorithms. As a result, we thought that we needed to keep the three datasets **balanced and representative after spliting**."
   ]
  },
  {
   "cell_type": "markdown",
   "id": "176bb5c7",
   "metadata": {
    "id": "176bb5c7"
   },
   "source": [
    "Run the below cell to get the fake face types and the distribution."
   ]
  },
  {
   "cell_type": "code",
   "execution_count": 7,
   "id": "6fa6ba4d",
   "metadata": {
    "ExecuteTime": {
     "end_time": "2022-12-04T02:24:01.096340Z",
     "start_time": "2022-12-04T02:24:01.046596Z"
    },
    "id": "6fa6ba4d",
    "outputId": "04415a47-709f-40db-884b-b15b771f18da"
   },
   "outputs": [
    {
     "name": "stdout",
     "output_type": "stream",
     "text": [
      "(array(['DF', 'F2F', 'FS', 'NT', 'eyes', 'mouth'], dtype='<U5'), array([1333, 1335, 1333, 1333, 1333, 1333]))\n"
     ]
    }
   ],
   "source": [
    "fake_type = []\n",
    "for idx, file_path in enumerate(get_file_name('./data/manipulated/')):\n",
    "    fake_type.append(((file_path.split('/'))[-1]).split('_')[0])\n",
    "    \n",
    "fake_type = np.array(fake_type)\n",
    "print(np.unique(fake_type, return_counts=True))\n",
    "fake_type = np.unique(fake_type).tolist()"
   ]
  },
  {
   "cell_type": "markdown",
   "id": "d061829a",
   "metadata": {
    "id": "d061829a"
   },
   "source": [
    "Run the below cell to split the dataset."
   ]
  },
  {
   "cell_type": "code",
   "execution_count": 11,
   "id": "bd409993",
   "metadata": {
    "ExecuteTime": {
     "end_time": "2022-12-04T02:27:08.939327Z",
     "start_time": "2022-12-04T02:27:08.014303Z"
    },
    "id": "bd409993",
    "outputId": "99fa7f3a-8665-42f7-b641-1845494d8d68"
   },
   "outputs": [
    {
     "name": "stdout",
     "output_type": "stream",
     "text": [
      "real 4000\n",
      "DF 1333\n",
      "F2F 1335\n",
      "FS 1333\n",
      "NT 1333\n",
      "eyes 1333\n",
      "mouth 1333\n",
      "train:val:test = 9600:1200:1200\n"
     ]
    }
   ],
   "source": [
    "image_data = {\n",
    "    'real': [],\n",
    "    'DF': [],\n",
    "    'F2F': [],\n",
    "    'FS': [],\n",
    "    'NT': [],\n",
    "    'eyes': [],\n",
    "    'mouth': []\n",
    "}\n",
    "\n",
    "for idx, file_path in enumerate(get_file_name('./data/')):\n",
    "    img = Image.open(file_path)\n",
    "    \n",
    "    if 'manipulated' in file_path: \n",
    "        for i, t in enumerate(fake_type):\n",
    "            if t in file_path:\n",
    "                image_data[t].append(img.filename)\n",
    "                break\n",
    "    else:\n",
    "        image_data['real'].append(img.filename)\n",
    "        \n",
    "    img.close()\n",
    "\n",
    "for k, v in image_data.items():\n",
    "    print(k, len(v))\n",
    "\n",
    "train = 0.8\n",
    "val = 0.1\n",
    "test = 0.1\n",
    "\n",
    "train_path = \"./input/train/\"\n",
    "val_path = \"./input/val/\"\n",
    "test_path = \"./input/test/\"\n",
    "\n",
    "for k, v in image_data.items():\n",
    "    train_len = math.ceil(len(v)*train)\n",
    "    val_len = math.floor(len(v)*val)\n",
    "    test_len = len(v) - train_len - val_len\n",
    "#     print(k, train_len, val_len, test_len)\n",
    "    \n",
    "    for idx, t in enumerate(v):\n",
    "        t = Image.open(t)\n",
    "        if idx < train_len:\n",
    "            t.save(train_path + t.filename.split(\"/\")[-1],\"PNG\")\n",
    "        elif idx >= train_len and idx < (train_len+val_len):\n",
    "            t.save(val_path + t.filename.split(\"/\")[-1],\"PNG\")\n",
    "        else:\n",
    "            t.save(test_path + t.filename.split(\"/\")[-1],\"PNG\")\n",
    "        t.close()\n",
    "for idx, file_path in enumerate(get_file_name('./input/train/')):\n",
    "    if idx > 2: break\n",
    "    img = Image.open(file_path)\n",
    "    if idx == 0:\n",
    "        img.save(test_path + img.filename.split(\"/\")[-1],\"PNG\")\n",
    "    if idx == 1 or idx == 2:\n",
    "        img.save(val_path + img.filename.split(\"/\")[-1],\"PNG\")\n",
    "    img.close()\n",
    "    os.remove(file_path)\n",
    "\n",
    "    \n",
    "print(\"train:val:test = {0}:{1}:{2}\".format(len(os.listdir(train_path)), len(os.listdir(val_path)), len(os.listdir(test_path)) ))\n"
   ]
  },
  {
   "cell_type": "markdown",
   "id": "6fce80b3",
   "metadata": {
    "id": "6fce80b3"
   },
   "source": [
    "#### 4.2 Data Augment"
   ]
  },
  {
   "cell_type": "markdown",
   "id": "a2c2f38e",
   "metadata": {
    "id": "a2c2f38e"
   },
   "source": [
    "**Data augmentation** are techniques used to increase the amount of data by adding slightly modified copies of already existing data or newly created synthetic data from existing data. It acts as a regularizer and helps reduce overfitting when training a machine learning model. It is closely related to oversampling in data analysis."
   ]
  },
  {
   "cell_type": "markdown",
   "id": "6CUZazpb6WCN",
   "metadata": {
    "id": "6CUZazpb6WCN"
   },
   "source": [
    "Data augmentation for image classification:\n",
    "\n",
    "* Rotation\n",
    "* Width & Height shift\n",
    "* Rescale\n",
    "* Horizontal & Vertical\n",
    "* Flips\n",
    "* ... ..."
   ]
  },
  {
   "cell_type": "markdown",
   "id": "8e669224",
   "metadata": {
    "id": "8e669224"
   },
   "source": [
    "We randomly horizontal fliped or rotated by 10 to 20 degrees for every image once to augment the dataset."
   ]
  },
  {
   "cell_type": "code",
   "execution_count": 12,
   "id": "fd828099",
   "metadata": {
    "ExecuteTime": {
     "end_time": "2022-12-04T02:28:26.815472Z",
     "start_time": "2022-12-04T02:28:26.808186Z"
    },
    "id": "fd828099"
   },
   "outputs": [
    {
     "name": "stdout",
     "output_type": "stream",
     "text": [
      "augment images: 9600\n",
      "tarin set size: 19200\n"
     ]
    }
   ],
   "source": [
    "train_path = \"./input/train/\"\n",
    "\n",
    "number = 0\n",
    "for idx, file_path in enumerate(get_file_name(train_path)):\n",
    "    img = Image.open(file_path)\n",
    "    rand = randrange(3)\n",
    "    \n",
    "    if rand == 0:\n",
    "        img_m = torchvision.transforms.RandomRotation((10, 20))(img)\n",
    "        img_m.save(img.filename[:-4]+\"-rot.png\", \"PNG\")\n",
    "    elif rand == 1:\n",
    "        img_m = torchvision.transforms.RandomHorizontalFlip()(img)\n",
    "        img_m.save(img.filename[:-4]+\"-hf.png\", \"PNG\")\n",
    "    elif rand == 2:\n",
    "        img_m = torchvision.transforms.RandomHorizontalFlip()(img)\n",
    "        img_m = torchvision.transforms.RandomRotation((10, 20))(img_m)\n",
    "        img_m.save(img.filename[:-4]+\"-hfrot.png\", \"PNG\")\n",
    "\n",
    "\n",
    "count = 0\n",
    "for idx, file_path in enumerate(get_file_name(train_path)):\n",
    "    if \"-\" in file_path.split(\"/\")[-1]: count += 1\n",
    "print(\"augment images:\", 9600)\n",
    "\n",
    "print(\"tarin set size:\", 19200)"
   ]
  },
  {
   "cell_type": "markdown",
   "id": "230d2111",
   "metadata": {
    "id": "230d2111"
   },
   "source": [
    "### 5. Training Details"
   ]
  },
  {
   "cell_type": "markdown",
   "id": "31babbf1",
   "metadata": {},
   "source": [
    "Our model is inspired by the relatively good performance when resnet50 combining with serveral convolution layers. The images are certrally cropped before putting into the model becuase usually faces are in the certer of the images. After that all images are normalized with the mean and the standard deviation to make sure the model can converge better.\n",
    "\n",
    "We tried different combinations of the layers and chose the relatively stable one, which will be discussed later in the report. Note that the pretrained resnet50 used in this case is trained on imagenet and is NOT relative to deepfake or deepfake detection."
   ]
  },
  {
   "cell_type": "code",
   "execution_count": 13,
   "id": "b2611825",
   "metadata": {
    "ExecuteTime": {
     "end_time": "2022-12-04T02:28:43.142117Z",
     "start_time": "2022-12-04T02:28:43.133081Z"
    },
    "id": "b2611825"
   },
   "outputs": [],
   "source": [
    "class Model(nn.Module):\n",
    "    def __init__(self, class_num: int = 2):\n",
    "        super(Model, self).__init__()\n",
    "\n",
    "        self.resnet = torchvision.models.resnet50()\n",
    "        # self.resnet_pretrain = torchvision.models.resnet50(pretrained=True) # for testing\n",
    "\n",
    "        self.conv1 = nn.Conv2d(3,32,3,2,0,bias=False)\n",
    "        self.bn1 = nn.BatchNorm2d(32)\n",
    "\n",
    "        self.conv2 = nn.Conv2d(32,64,3,bias=False)\n",
    "        self.bn2 = nn.BatchNorm2d(64)\n",
    "\n",
    "        self.conv3 = nn.Conv2d(64,3,3,padding=2,bias=False)\n",
    "        self.bn3 = nn.BatchNorm2d(3)\n",
    "        self.maxpooling3 = nn.MaxPool2d(kernel_size=(2, 2), padding=1)\n",
    "\n",
    "        self.avgpooling1 = nn.AvgPool2d(kernel_size=(2, 2))\n",
    "        \n",
    "        self.dropout = nn.Dropout2d(0.5)\n",
    "        self.fc1 = nn.Linear(1000, 64)\n",
    "        self.fc2 = nn.Linear(64, class_num)\n",
    "        \n",
    "        self.relu = nn.ReLU(inplace=True)\n",
    "        self.leakyrelu = nn.LeakyReLU(0.1)\n",
    "        \n",
    "    def forward(self, input):\n",
    "\n",
    "        x = self.conv1(input)\n",
    "        x = self.bn1(x)\n",
    "        x = self.relu(x)\n",
    "\n",
    "        x = self.conv2(x)\n",
    "        x = self.bn2(x)\n",
    "        x = self.relu(x)\n",
    "\n",
    "        x = self.conv3(x)\n",
    "        x = self.bn3(x)\n",
    "        x = self.relu(x)\n",
    "        x = self.maxpooling3(x)\n",
    "        \n",
    "        x = self.resnet(x)\n",
    "                \n",
    "        x = self.dropout(x)\n",
    "        x = self.fc1(x)\n",
    "        x = self.leakyrelu(x)\n",
    "        x = self.dropout(x)\n",
    "        x = self.fc2(x)\n",
    "        \n",
    "        return x"
   ]
  },
  {
   "cell_type": "code",
   "execution_count": null,
   "id": "2dadade6",
   "metadata": {
    "ExecuteTime": {
     "end_time": "2022-12-04T02:22:36.210017Z",
     "start_time": "2022-12-04T02:22:36.188947Z"
    },
    "id": "2dadade6"
   },
   "outputs": [],
   "source": [
    "has_cuda = torch.cuda.is_available()\n",
    "device = torch.device (\"cuda:2\") if has_cuda else torch.device(\"cpu\")\n",
    "\n",
    "# process data\n",
    "GENERAL_TRANSFORM = torchvision.transforms.Compose([\n",
    "    torchvision.transforms.CenterCrop((255, 255))\n",
    "])\n",
    "\n",
    "TRAIN_TRANSFORM = torchvision.transforms.Compose([\n",
    "    torchvision.transforms.ToTensor(),\n",
    "    torchvision.transforms.Normalize([0.5]*3, [0.5]*3)\n",
    "])\n",
    "VAL_TRANSFORM = torchvision.transforms.Compose([\n",
    "    torchvision.transforms.ToTensor(),\n",
    "    torchvision.transforms.Normalize([0.5]*3, [0.5]*3)\n",
    "])"
   ]
  },
  {
   "cell_type": "code",
   "execution_count": null,
   "id": "0f8799bb",
   "metadata": {
    "id": "0f8799bb"
   },
   "outputs": [],
   "source": [
    "# fake - 0\n",
    "# real - 1\n",
    "\n",
    "# prepare the data\n",
    "X_train = []\n",
    "y_train = []\n",
    "for idx, file_path in enumerate(get_file_name('./input/train/')):\n",
    "    img = cv2.imread(file_path)\n",
    "    img = cv2.cvtColor(img, cv2.COLOR_BGR2RGB)\n",
    "    img = Image.fromarray(img)\n",
    "\n",
    "    # img = torchvision.transforms.functional.adjust_contrast(img, 2) # if need enhance contrast\n",
    "\n",
    "    img = GENERAL_TRANSFORM(img)\n",
    "    img = TRAIN_TRANSFORM(img)\n",
    "    X_train.append(img)\n",
    "    \n",
    "    if '_' in file_path.split(\"/\")[-1]: \n",
    "        y_train.append(0)\n",
    "    else:\n",
    "        y_train.append(1)\n",
    "\n",
    "y_train = np.asarray(y_train)\n",
    "print(\"y_train\", np.unique(y_train, return_counts=True))\n",
    "\n",
    "\n",
    "X_val = []\n",
    "y_val = []\n",
    "for idx, file_path in enumerate(get_file_name('./input/val/')):\n",
    "    img = cv2.imread(file_path)\n",
    "    img = cv2.cvtColor(img, cv2.COLOR_BGR2RGB)\n",
    "    img = Image.fromarray(img)\n",
    "    \n",
    "    # img = torchvision.transforms.functional.adjust_contrast(img, 2)\n",
    "\n",
    "    img = GENERAL_TRANSFORM(img)\n",
    "    img = VAL_TRANSFORM(img)\n",
    "    X_val.append(img)\n",
    "    \n",
    "    if '_' in file_path.split(\"/\")[-1]: \n",
    "        y_val.append(0)\n",
    "    else:\n",
    "        y_val.append(1)\n",
    "\n",
    "y_val = np.asarray(y_val)\n",
    "print(\"y_val\", np.unique(y_val, return_counts=True))\n",
    "\n",
    "X_train, y_train = torch.stack(X_train), torch.Tensor(y_train)\n",
    "X_val, y_val = torch.stack(X_val), torch.Tensor(y_val)\n"
   ]
  },
  {
   "cell_type": "markdown",
   "id": "3b368fa7",
   "metadata": {
    "id": "3b368fa7"
   },
   "source": [
    "**Note**: we found that a pytorch checkpoint could be saved here to save time for later training with the same data.\n",
    "```python\n",
    "# save\n",
    "torch.save({\n",
    "    \"X_train\": X_train,\n",
    "    \"X_val\": X_val,\n",
    "    \"y_train\": y_train,\n",
    "    \"y_val\": y_val,\n",
    "}, \"checkpoints/name.pkl\")\n",
    "\n",
    "# load\n",
    "checkpoint = torch.load(\"checkpoints/name.pkl\")\n",
    "X_train = checkpoint[\"X_train\"]\n",
    "X_val = checkpoint[\"X_val\"]\n",
    "y_train = checkpoint[\"y_train\"]\n",
    "y_val = checkpoint[\"y_val\"]\n",
    "```"
   ]
  },
  {
   "cell_type": "code",
   "execution_count": null,
   "id": "5c1f7373",
   "metadata": {
    "id": "5c1f7373"
   },
   "outputs": [],
   "source": [
    "# initialize batchsize and dataloader\n",
    "train_batchsize = 32\n",
    "val_batchsize = 16\n",
    "\n",
    "train_dataset = torch.utils.data.TensorDataset(X_train, y_train)\n",
    "val_dataset = torch.utils.data.TensorDataset(X_val, y_val)\n",
    "\n",
    "train_loader = torch.utils.data.DataLoader(dataset = train_dataset, batch_size = train_batchsize, shuffle = True)\n",
    "val_loader = torch.utils.data.DataLoader(dataset = val_dataset, batch_size = val_batchsize, shuffle = True)\n"
   ]
  },
  {
   "cell_type": "code",
   "execution_count": null,
   "id": "61625b8f",
   "metadata": {
    "ExecuteTime": {
     "end_time": "2022-12-04T02:22:17.513026Z",
     "start_time": "2022-12-04T02:22:17.272646Z"
    },
    "id": "61625b8f"
   },
   "outputs": [],
   "source": [
    "echos = 35\n",
    "learning_rate = 0.001\n",
    "model = Model()\n",
    "model_adam = torch.optim.Adam(model.parameters(), lr=learning_rate, weight_decay = 1e-8)\n",
    "scheduler = torch.optim.lr_scheduler.ExponentialLR(model_adam, gamma=0.98)\n",
    "loss_function = nn.CrossEntropyLoss()\n",
    "\n",
    "model = model.to(device)\n",
    "\n",
    "\n",
    "best_model_wts = model.state_dict()\n",
    "best_acc = 0\n",
    "# train\n",
    "for i in range(echos):\n",
    "    print(i)\n",
    "    model.train()\n",
    "    for batch_idx,(image, target) in enumerate(train_loader):\n",
    "\n",
    "        image = image.to(device)\n",
    "        target = target.to(device)\n",
    "\n",
    "        model_adam.zero_grad()\n",
    "        output = model(image)\n",
    "        _, preds = torch.max(output.data, 1)\n",
    "        loss = loss_function(output, target.long())\n",
    "        \n",
    "        if batch_idx == 1:\n",
    "            print(\"train_loss:\", loss)\n",
    "            print(\"train_accuracy:\", torch.sum(preds == target).data/train_batchsize)\n",
    "        \n",
    "        loss.backward()\n",
    "        model_adam.step()\n",
    "\n",
    "\n",
    "    model.eval()\n",
    "    correct = 0\n",
    "    with torch.no_grad():\n",
    "        for batch_idx,(image, target) in enumerate(val_loader):\n",
    "            image = image.to(device)\n",
    "            target = target.to(device)\n",
    "\n",
    "            output = model(image)\n",
    "            _, preds = torch.max(output.data, 1)\n",
    "            loss = loss_function(output, target.long())\n",
    "            correct += torch.sum(preds == target).to(torch.float32)\n",
    "            if batch_idx == 1:\n",
    "                print(correct)\n",
    "                print(\"val_loss:\", loss)\n",
    "\n",
    "        current_acc = correct / len(val_dataset)\n",
    "        print(\"val_accuracy:\", current_acc)\n",
    "\n",
    "        if current_acc > best_acc:\n",
    "            best_acc = current_acc\n",
    "            best_model_wts = model.state_dict()\n",
    "    scheduler.step()\n",
    "    if loss > 1: break\n",
    "\n",
    "torch.save(model.state_dict(), \"output/best_\" + str(echos) + \".pkl\")\n"
   ]
  },
  {
   "cell_type": "markdown",
   "id": "de4ec91d",
   "metadata": {
    "id": "59769a96"
   },
   "source": [
    "### 6. Test Code"
   ]
  },
  {
   "cell_type": "code",
   "execution_count": null,
   "id": "19f478b1",
   "metadata": {},
   "outputs": [],
   "source": [
    "model = Model()\n",
    "best_model_wts = torch.load(\"name.pkl\")\n",
    "best_acc = 0\n",
    "\n",
    "# test\n",
    "def test_model(model, best_model_wts, test_img_path):\n",
    "    has_cuda = torch.cuda.is_available()\n",
    "    device = torch.device (\"cuda:2\") if has_cuda else torch.device(\"cpu\")\n",
    "    model = model.to(device)\n",
    "    loss_function = nn.CrossEntropyLoss()\n",
    "    def get_file_name(base):\n",
    "        for path, dir, file in os.walk(base):\n",
    "            for f in file:\n",
    "                if \".png\" in f:\n",
    "                    yield(os.path.join(path, f))\n",
    "    TEST_TRANSFORM = torchvision.transforms.Compose([\n",
    "        torchvision.transforms.CenterCrop((255, 255)),\n",
    "        torchvision.transforms.ToTensor(),\n",
    "        torchvision.transforms.Normalize([0.5]*3, [0.5]*3)\n",
    "    ])\n",
    "\n",
    "    test_batchsize = 1\n",
    "    X_test = []\n",
    "    y_test = []\n",
    "\n",
    "    for idx, file_path in enumerate(get_file_name(test_img_path)):\n",
    "        img = cv2.imread(file_path)\n",
    "        img = cv2.cvtColor(img, cv2.COLOR_BGR2RGB)\n",
    "        img = Image.fromarray(img)\n",
    "\n",
    "        # img = torchvision.transforms.functional.adjust_contrast(img, 2)\n",
    "        \n",
    "        img = TEST_TRANSFORM(img)\n",
    "        X_test.append(img)\n",
    "        \n",
    "        if '_' in file_path.split(\"/\")[-1]: \n",
    "            y_test.append(0)\n",
    "        else:\n",
    "            y_test.append(1)\n",
    "\n",
    "    y_test = np.asarray(y_test)\n",
    "    print(\"y_test\", np.unique(y_test, return_counts=True))\n",
    "\n",
    "\n",
    "    X_test, y_test = torch.stack(X_test), torch.Tensor(y_test)\n",
    "\n",
    "    test_dataset = torch.utils.data.TensorDataset(X_test, y_test)\n",
    "    test_loader = torch.utils.data.DataLoader(dataset = test_dataset, batch_size = test_batchsize, shuffle = True)\n",
    "\n",
    "\n",
    "    correct = 0\n",
    "    with torch.no_grad():\n",
    "        model.load_state_dict(best_model_wts)\n",
    "        model.eval()\n",
    "        for batch_idx,(image, target) in enumerate(test_loader):\n",
    "\n",
    "            image = image.to(device)\n",
    "            target = target.to(device)\n",
    "\n",
    "            output = model(image)\n",
    "            _, preds = torch.max(output.data, 1)\n",
    "            loss = loss_function(output, target.long())\n",
    "            \n",
    "            correct += (preds == target)\n",
    "            print(correct)\n",
    "            print(\"loss:\", loss)\n",
    "\n",
    "        print(\"test accuracy:\", correct / test_loader.__len__())\n",
    "\n",
    "test_model(model, best_model_wts, './input/test/')\n"
   ]
  },
  {
   "cell_type": "markdown",
   "id": "8dfb623d",
   "metadata": {},
   "source": [
    "### 7. Experiment"
   ]
  },
  {
   "cell_type": "markdown",
   "id": "dd816b86",
   "metadata": {},
   "source": [
    "To design the network structure, we first tried the design people used in *MesoNet*. Just as mentioned before, we wanted to make our network small and fast to train, so MesoNet was choosen because it was a simple network with a theoretically good accuracy.\n",
    "\n",
    "The network structure was basically like:\n",
    "1. 2 convolution layers with the identical sturcutre: conv -> batch normalization -> max pooling (channel: 3->8->3).\n",
    "2. resnet 34 or 50.\n",
    "3. MLP."
   ]
  },
  {
   "cell_type": "markdown",
   "id": "2892bf43",
   "metadata": {},
   "source": [
    "And We tried following parameters in the experiment:\n",
    "1. test batch size: 32 or 64\n",
    "2. epoch: 15, 25, 35, 45\n",
    "3. optimizer: adam, nadam\n",
    "4. image size adjustment: resize or crop\n",
    "5. scheduler: ExpLR, StepLR\n",
    "6. learning rate initialization: 0.005, 0.001\n",
    "7. resnet type: resnet18, resent34, resnet50"
   ]
  },
  {
   "cell_type": "markdown",
   "id": "1abd874e",
   "metadata": {},
   "source": [
    "The result were:\n",
    "1. did not give much difference in our case.\n",
    "2. test accuracy increasing from 15 to 35, but decrease a little bit when 45, which indicates an overfitting problem.\n",
    "3. did not give much difference in our case.\n",
    "4. resize is a better choice for this model (multiple attempts conducted, result in around 0.82(resize) > 0.79(crop)).\n",
    "5. model converged fast when using ExpLR, this may becuase the exponential curve feats the situation better, but the test accuracies were similar.\n",
    "6. lr = 0.001 gave a better performance.\n",
    "7. resnet50 gave higher test accuracy, may be because it is a carefully-designed deeper netwrok.\n",
    "\n",
    "Due to the time limitation, we did not tase all combination of the 6 aspects; however, we kept the other parameters identical when testing one of them."
   ]
  },
  {
   "cell_type": "markdown",
   "id": "27b54512",
   "metadata": {},
   "source": [
    "We adjusted the parameters after the experiment. The best test accuracy was around 81% to 82% with:\n",
    "\n",
    "1. test batch size: 32\n",
    "2. epoch: 30\n",
    "3. optimizer: adam\n",
    "4. image size adjustment: resize\n",
    "5. scheduler: ExpLR\n",
    "6. learning rate initialization: 0.001\n",
    "7. resnet type: resnet50"
   ]
  },
  {
   "cell_type": "markdown",
   "id": "9bec73a7",
   "metadata": {},
   "source": [
    "Then we changed the model structure to see if there was an improvement:\n",
    "1. add one more convolution layer.\n",
    "2. change the first pooling layer from maxpooling to avepooling.\n",
    "3. change channel number: 3->16->3, 3->16->32->3"
   ]
  },
  {
   "cell_type": "markdown",
   "id": "3cd0fd0f",
   "metadata": {},
   "source": [
    "However, we did not get better result, the test accuracy were all around 76%-79%."
   ]
  },
  {
   "cell_type": "markdown",
   "id": "ea56d130",
   "metadata": {},
   "source": [
    "Then we were inspired by the original Xception model, and tried to design our convolution layers as it did before (of course, we have some adjustments), which improved the model performance a little.\n",
    "\n",
    "The following parameters were tested during the experiment:\n",
    "1. epoch: 25, 30, 35, 45\n",
    "2. image size adjustment: no adjustment, resize, crop\n",
    "3. resnet type: resnet34 or resnet50\n",
    "4. if the resnet was pretrained on imagenet (not related with deepfake)\n",
    "5. if the contrast of images were enhanced\n",
    "6. channel number minor adjustment"
   ]
  },
  {
   "cell_type": "markdown",
   "id": "ab28e15f",
   "metadata": {},
   "source": [
    "The result were:\n",
    "1. epoch 35 was a good stop point for pretrained one, and 45 was good for the original one.\n",
    "2. cropped images gave the better performance in this case.\n",
    "3. resnet50 converged faster and the accuracy was a little better than resnet34, but resnet34 was not bad and easier to train.\n",
    "4. pretrained one converged faster, but the one without pretraining could achieve the similar accuracy with more epoches.\n",
    "5. did not gave much differences.\n",
    "6. after multiple adjustments, we decided the current model."
   ]
  },
  {
   "cell_type": "markdown",
   "id": "b24002ae",
   "metadata": {},
   "source": [
    "### 8. Result and Reflection"
   ]
  },
  {
   "cell_type": "markdown",
   "id": "7373b918",
   "metadata": {},
   "source": [
    "The accuracy of our model is around:\n",
    "```\n",
    "val_loss: tensor(0.0017, device='cuda:2')\n",
    "val accuracy: tensor([0.8592], device='cuda:0')\n",
    "test accuracy: tensor([0.8525], device='cuda:0')\n",
    "```\n",
    "which is not good, while the train accuracy reach 98% to nearly 100% at the final stage. This is an obvious symbol of overfitting. However, according to the data from above experiment, we can also tell that this is not because we over-trained the model. As a result, this is probably caused by the improper data augment, which cause there were too much similar pictures in the training set. May be we should implement a more reasonable augmentation logic or model structure to prevent this problem when encounting a relatively small training set. This benefits us that though model structure and idea are very important, we should also mind the data we used during researching carefully. We were aware of this point before starting the project, but did not pay enough attention on it, which eventually leads to a problem.\n",
    "\n",
    "Moreover, we should also gather more information during training to analyse why the model gives such result, in which case it gives the correct answer, in which case not. However we did not complete the experiments due to the lack of time.\n",
    "\n",
    "Actually, we also tried to classify the images in a multi-class approach once we noticed the well-structured file names, which did not gave an impressive result at that time, and we did not stick to that. But this approach was proved by our classmates that could give good performance. We were taught that we should give a more comprehensive attempt before changing the direction.\n",
    "\n",
    "Overall, though the final result is not that satisfying, but we have learned a lot in doing this project and got some experience in terms of computer vision."
   ]
  }
 ],
 "metadata": {
  "colab": {
   "provenance": []
  },
  "kernelspec": {
   "display_name": "Python [conda env:newtorch]",
   "language": "python",
   "name": "conda-env-newtorch-py"
  },
  "language_info": {
   "codemirror_mode": {
    "name": "ipython",
    "version": 3
   },
   "file_extension": ".py",
   "mimetype": "text/x-python",
   "name": "python",
   "nbconvert_exporter": "python",
   "pygments_lexer": "ipython3",
   "version": "3.8.13"
  }
 },
 "nbformat": 4,
 "nbformat_minor": 5
}
